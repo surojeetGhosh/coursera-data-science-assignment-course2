{
 "cells": [
  {
   "cell_type": "markdown",
   "id": "7a47425b",
   "metadata": {},
   "source": [
    "# Coursera Peer Graded Assignment NoteBook\n"
   ]
  },
  {
   "cell_type": "markdown",
   "id": "cd297c58",
   "metadata": {},
   "source": [
    "This notebook is created for sole purpose of assignment. This notebook contains many points relevant to exercise questions\n"
   ]
  },
  {
   "cell_type": "markdown",
   "id": "e5961a1a",
   "metadata": {},
   "source": [
    "Data Science Programming Languages :-\n",
    "\n",
    "<ol> \n",
    "    <li>Python</li>\n",
    "    <li>R</li>\n",
    "    <li>JavaScript</li>\n",
    "    <li>Java</li>\n",
    "    <li>C++</li>\n",
    "</ol>\n"
   ]
  },
  {
   "cell_type": "markdown",
   "id": "a0074dfd",
   "metadata": {},
   "source": [
    "Data Science Libraries :-\n",
    "\n",
    "<ol>\n",
    "    <li>Matplotlib</li>\n",
    "    <li>Seaborn</li>\n",
    "    <li>Plotly</li>\n",
    "    <li>Pandas</li>\n",
    "    <li>numpy</li>\n",
    "    <li>scipy</li>\n",
    "    <li>scikit-learn</li>\n",
    "    <li>Tensorflow</li>\n",
    "    <li>nltk</li>\n",
    "    <li>pytorch</li>\n",
    "</ol>\n"
   ]
  },
  {
   "cell_type": "markdown",
   "id": "c335b85e",
   "metadata": {},
   "source": [
    "Data Science Tools :-\n",
    "\n",
    "<table>\n",
    "    <tr><td>PostgreSQL</td></tr>\n",
    "    <tr><td>Apache Hive</td></tr>\n",
    "    <tr><td>GitHub</td></tr>\n",
    "    <tr><td>JupyterLab</td></tr>\n",
    "    <tr><td>RStudio</td></tr>\n",
    "    <tr><td>Apache Spark</td></tr>\n",
    "    <tr><td>Kubeflow</td></tr>\n",
    "</table>\n"
   ]
  },
  {
   "cell_type": "markdown",
   "id": "48ed1afd",
   "metadata": {},
   "source": [
    "Arithmetic Expressions :-\n",
    "\n",
    "Arithmetic expression examples can be a + b = c\n"
   ]
  },
  {
   "cell_type": "code",
   "execution_count": null,
   "id": "d909bc8b",
   "metadata": {},
   "outputs": [
    {
     "data": {
      "text/plain": [
       "304"
      ]
     },
     "execution_count": 4,
     "metadata": {},
     "output_type": "execute_result"
    }
   ],
   "source": [
    "# Below expression is an example of arithmetic operations\n",
    "5 * 54 + 34"
   ]
  },
  {
   "cell_type": "code",
   "execution_count": 5,
   "id": "b32b77f1",
   "metadata": {},
   "outputs": [
    {
     "data": {
      "text/plain": [
       "6.1"
      ]
     },
     "execution_count": 5,
     "metadata": {},
     "output_type": "execute_result"
    }
   ],
   "source": [
    "# Below is function written to calculate minute to hours\n",
    "def minutesToHours(minutes: int) -> float:\n",
    "    return minutes / 60.0\n",
    "minutesToHours(366)"
   ]
  },
  {
   "cell_type": "markdown",
   "id": "f5897474",
   "metadata": {},
   "source": [
    "<strong>Objectives</strong>\n",
    "\n",
    "<ul>\n",
    "    <li>Follow exercise questions properly</li>\n",
    "    <li>Take screenshot</li>\n",
    "    <li>Share it through github repo by pushing all changes</li>\n",
    "</ul>\n"
   ]
  },
  {
   "cell_type": "markdown",
   "id": "c74cb64d",
   "metadata": {},
   "source": [
    "Author @surojeetGhosh\n"
   ]
  }
 ],
 "metadata": {
  "kernelspec": {
   "display_name": "Python 3",
   "language": "python",
   "name": "python3"
  },
  "language_info": {
   "codemirror_mode": {
    "name": "ipython",
    "version": 3
   },
   "file_extension": ".py",
   "mimetype": "text/x-python",
   "name": "python",
   "nbconvert_exporter": "python",
   "pygments_lexer": "ipython3",
   "version": "3.13.3"
  }
 },
 "nbformat": 4,
 "nbformat_minor": 5
}
