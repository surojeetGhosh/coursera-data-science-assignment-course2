{
 "cells": [
  {
   "cell_type": "markdown",
   "id": "7a47425b",
   "metadata": {},
   "source": [
    "# Coursera Peer Graded Assignment NoteBook\n"
   ]
  },
  {
   "cell_type": "markdown",
   "id": "cd297c58",
   "metadata": {},
   "source": [
    "This notebook is created for sole purpose of assignment. This notebook contains many points relevant to exercise questions\n"
   ]
  },
  {
   "cell_type": "markdown",
   "id": "e5961a1a",
   "metadata": {},
   "source": [
    "Data Science Programming Languages :-\n",
    "\n",
    "<ul> \n",
    "    <li>Python</li>\n",
    "    <li>R</li>\n",
    "    <li>JavaScript</li>\n",
    "    <li>Java</li>\n",
    "    <li>C++</li>\n",
    "</ul>\n"
   ]
  },
  {
   "cell_type": "markdown",
   "id": "a0074dfd",
   "metadata": {},
   "source": [
    "Data Science Libraries :-\n",
    "\n",
    "<ul>\n",
    "    <li>Matplotlib</li>\n",
    "    <li>Seaborn</li>\n",
    "    <li>Plotly</li>\n",
    "    <li>Pandas</li>\n",
    "    <li>numpy</li>\n",
    "    <li>scipy</li>\n",
    "    <li>scikit-learn</li>\n",
    "    <li>Tensorflow</li>\n",
    "    <li>nltk</li>\n",
    "    <li>pytorch</li>\n",
    "</ul>\n"
   ]
  },
  {
   "cell_type": "markdown",
   "id": "c335b85e",
   "metadata": {},
   "source": [
    "Data Science Tools :-\n",
    "\n",
    "<ul>\n",
    "    <li>PostgreSQL</li>\n",
    "    <li>Apache Hive</li>\n",
    "    <li>GitHub</li>\n",
    "    <li>JupyterLab</li>\n",
    "    <li>RStudio</li>\n",
    "    <li>Apache Spark</li>\n",
    "    <li>Kubeflow</li>\n",
    "</ul>\n"
   ]
  },
  {
   "cell_type": "markdown",
   "id": "48ed1afd",
   "metadata": {},
   "source": [
    "Arithmetic Expressions :-\n",
    "\n",
    "Arithmetic expression examples can be a + b = c\n"
   ]
  },
  {
   "cell_type": "code",
   "execution_count": 2,
   "id": "d909bc8b",
   "metadata": {},
   "outputs": [
    {
     "data": {
      "text/plain": [
       "304"
      ]
     },
     "execution_count": 2,
     "metadata": {},
     "output_type": "execute_result"
    }
   ],
   "source": [
    "5 * 54 + 34"
   ]
  },
  {
   "cell_type": "code",
   "execution_count": 3,
   "id": "b32b77f1",
   "metadata": {},
   "outputs": [],
   "source": [
    "def minutesToHours(minutes: int) -> float:\n",
    "    return minutes / 60.0\n"
   ]
  },
  {
   "cell_type": "markdown",
   "id": "f5897474",
   "metadata": {},
   "source": [
    "<strong>Objectives</strong>\n",
    "\n",
    "<ul>\n",
    "    <li>Follow exercise questions properly</li>\n",
    "    <li>Take screenshot</li>\n",
    "    <li>Share it through github repo by pushing all changes</li>\n",
    "</ul>\n"
   ]
  },
  {
   "cell_type": "markdown",
   "id": "c74cb64d",
   "metadata": {},
   "source": [
    "Author @surojeetGhosh\n"
   ]
  }
 ],
 "metadata": {
  "kernelspec": {
   "display_name": "Python 3",
   "language": "python",
   "name": "python3"
  },
  "language_info": {
   "codemirror_mode": {
    "name": "ipython",
    "version": 3
   },
   "file_extension": ".py",
   "mimetype": "text/x-python",
   "name": "python",
   "nbconvert_exporter": "python",
   "pygments_lexer": "ipython3",
   "version": "3.13.3"
  }
 },
 "nbformat": 4,
 "nbformat_minor": 5
}
